{
 "cells": [
  {
   "cell_type": "markdown",
   "metadata": {},
   "source": [
    "# Decision making"
   ]
  },
  {
   "cell_type": "markdown",
   "metadata": {},
   "source": [
    "- Decision structures evaluate multiple expressions which produce `TRUE` or `FALSE` as outcome. \n",
    "- You need to determine which action to take and which statements to execute if outcome is `TRUE` or `FALSE` \n",
    "- Python assumes any non-zero or non-null values as `True`, and if it is either zero or null, then it is assumed as `False`\n",
    "- Python supports following decision making statements:\n",
    "    - if statements\n",
    "    - if...else statements\n",
    "    - Nested if statements\n",
    "- No switch-case statements for python"
   ]
  },
  {
   "cell_type": "markdown",
   "metadata": {},
   "source": [
    "# if statements"
   ]
  },
  {
   "cell_type": "markdown",
   "metadata": {},
   "source": [
    "Syntax\n",
    "\n",
    "```python\n",
    "if expression:\n",
    "       if_suite\n",
    "```\n",
    "\n",
    "- if expression is True or non-zero the if suite is executed. \n",
    "- Suite means the sub-block of code and may contain single or multiple lines of codes"
   ]
  },
  {
   "cell_type": "code",
   "execution_count": null,
   "metadata": {},
   "outputs": [],
   "source": [
    "password = input('Enter password')\n",
    "if password == \"H3llo\":\n",
    "    print(\"Password match\")\n",
    "else:\n",
    "    print(\"Password not matched\")"
   ]
  },
  {
   "cell_type": "code",
   "execution_count": null,
   "metadata": {},
   "outputs": [],
   "source": [
    "num = 31\n",
    "\n",
    "if num % 2 == 1:\n",
    "    print(\"Odd number\")"
   ]
  },
  {
   "cell_type": "markdown",
   "metadata": {},
   "source": [
    "# if..else statements"
   ]
  },
  {
   "cell_type": "markdown",
   "metadata": {},
   "source": [
    "Syntax:\n",
    "\n",
    "```python\n",
    "if expression1:\n",
    "    if_suite\n",
    "elif expression2:\n",
    "    elif_suite\n",
    "else:\n",
    "    else_suite\n",
    "```"
   ]
  },
  {
   "cell_type": "code",
   "execution_count": null,
   "metadata": {},
   "outputs": [],
   "source": [
    "x = float(input(\"Enter anything\"))\n",
    "print(type(x))"
   ]
  },
  {
   "cell_type": "code",
   "execution_count": null,
   "metadata": {},
   "outputs": [],
   "source": [
    "x = int(input(\"What is the time?\"))\n",
    "\n",
    "if x < 10:\n",
    "    print(\"Good morning\")\n",
    "\n",
    "elif x < 12: \n",
    "    print(\"Soon time for lunch\")\n",
    "\n",
    "elif x < 18: \n",
    "    print(\"Good day\")\n",
    "elif x < 22: \n",
    "    print(\"Good evening\")\n",
    "else: \n",
    "    print(\"Good night\")"
   ]
  },
  {
   "cell_type": "markdown",
   "metadata": {},
   "source": [
    "# Nested statements\n",
    "\n",
    "Syntax:\n",
    "```python\n",
    "if expression1:\n",
    "    statement(s)\n",
    "    if expression2:\n",
    "        statement(s)\n",
    "    elif expression3:\n",
    "        statement(s)\n",
    "    else:\n",
    "        statement(s)\n",
    "else:\n",
    "    statement(s)\n",
    "```"
   ]
  },
  {
   "cell_type": "code",
   "execution_count": null,
   "metadata": {},
   "outputs": [],
   "source": []
  },
  {
   "cell_type": "code",
   "execution_count": null,
   "metadata": {},
   "outputs": [],
   "source": [
    "var = 100\n",
    "if var < 200:\n",
    "    print(\"Expression value is less than 200\")\n",
    "    if var == 150:\n",
    "        print(\"Which is 150\")\n",
    "    elif var == 100:\n",
    "        print(\"Which is 100\")\n",
    "    elif var == 50:\n",
    "        print(\"Which is 50\")\n",
    "    elif var < 50:\n",
    "        print(\"Expression value is less than 50\")\n",
    "else:\n",
    "    print(\"Could not find true expression\")\n",
    "\n",
    "print(\"Good bye!\")"
   ]
  },
  {
   "cell_type": "markdown",
   "metadata": {},
   "source": [
    "# Ternary\n",
    "- In C programming:\n",
    "```C\n",
    "max = (a > b) ? a : b;\n",
    "```\n",
    "In Python\n",
    "```python\n",
    "max = a if (a > b) else b\n",
    "```\n",
    "\n",
    "\n",
    "- ternary if statement is more than an abbreviation. It is an expression, which can be used within another expression:\n",
    "```python\n",
    "max = (a if (a > b) else b) * 2.45 - 4\n",
    "```"
   ]
  },
  {
   "cell_type": "code",
   "execution_count": null,
   "metadata": {},
   "outputs": [],
   "source": [
    "a = 54\n",
    "b = 5\n",
    "max_val = 0\n",
    "if(a > b):\n",
    "    max_val = a\n",
    "else:\n",
    "    max_val = b\n",
    "\n",
    "my_val = max_val * 2.45 - 4\n",
    "print(my_val)\n",
    "\n",
    "\n",
    "\n",
    "# max_val = a if (a>b) else b\n",
    "# print(max_val)"
   ]
  },
  {
   "cell_type": "code",
   "execution_count": null,
   "metadata": {},
   "outputs": [],
   "source": [
    "a = 56\n",
    "b = 5\n",
    "my_val = (a if (a > b) else b) * 2.45 - 4\n",
    "print(my_val)"
   ]
  },
  {
   "cell_type": "code",
   "execution_count": null,
   "metadata": {},
   "outputs": [],
   "source": []
  },
  {
   "cell_type": "code",
   "execution_count": null,
   "metadata": {},
   "outputs": [],
   "source": []
  },
  {
   "cell_type": "code",
   "execution_count": null,
   "metadata": {},
   "outputs": [],
   "source": []
  },
  {
   "cell_type": "code",
   "execution_count": null,
   "metadata": {},
   "outputs": [],
   "source": []
  },
  {
   "cell_type": "code",
   "execution_count": null,
   "metadata": {},
   "outputs": [],
   "source": []
  }
 ],
 "metadata": {
  "kernelspec": {
   "display_name": "Python 3",
   "language": "python",
   "name": "python3"
  },
  "language_info": {
   "codemirror_mode": {
    "name": "ipython",
    "version": 3
   },
   "file_extension": ".py",
   "mimetype": "text/x-python",
   "name": "python",
   "nbconvert_exporter": "python",
   "pygments_lexer": "ipython3",
   "version": "3.6.4"
  }
 },
 "nbformat": 4,
 "nbformat_minor": 1
}
