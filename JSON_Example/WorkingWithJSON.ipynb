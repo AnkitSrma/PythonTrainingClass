{
 "cells": [
  {
   "cell_type": "markdown",
   "metadata": {},
   "source": [
    "- JSON stands for \"JavaScript Object Notation\"\n",
    "- But, this is not related to JS and it is language independent\n",
    "- Different programming language has support for parsing and generating JSON data"
   ]
  },
  {
   "cell_type": "code",
   "execution_count": 1,
   "metadata": {
    "collapsed": true
   },
   "outputs": [],
   "source": [
    "# json module to work with the JSON data\n",
    "import json"
   ]
  },
  {
   "cell_type": "code",
   "execution_count": 2,
   "metadata": {
    "collapsed": false,
    "scrolled": true
   },
   "outputs": [
    {
     "name": "stdout",
     "output_type": "stream",
     "text": [
      "\n",
      "    {\n",
      "        \"people\": [\n",
      "            {\n",
      "                \"name\": \"Sagar Giri\",\n",
      "                \"phone\": [\"9807360000\", \"9840207890\"],\n",
      "                \"emails\": \"girisagar46@gmail.com\",\n",
      "                \"has_license\": false\n",
      "            },\n",
      "            {\n",
      "                \"name\": \"Ram Bahadur\",\n",
      "                \"phone\": [\"9800000000\"],\n",
      "                \"emails\": null,\n",
      "                \"has_license\": true\n",
      "            }\n",
      "        ]\n",
      "    }\n",
      "\n"
     ]
    }
   ],
   "source": [
    "# We need a valid JSON data\n",
    "json_string = \"\"\"\n",
    "    {\n",
    "        \"people\": [\n",
    "            {\n",
    "                \"name\": \"Sagar Giri\",\n",
    "                \"phone\": [\"9807360000\", \"9840207890\"],\n",
    "                \"emails\": \"girisagar46@gmail.com\",\n",
    "                \"has_license\": false\n",
    "            },\n",
    "            {\n",
    "                \"name\": \"Ram Bahadur\",\n",
    "                \"phone\": [\"9800000000\"],\n",
    "                \"emails\": null,\n",
    "                \"has_license\": true\n",
    "            }\n",
    "        ]\n",
    "    }\n",
    "\"\"\"\n",
    "print(json_string)"
   ]
  },
  {
   "cell_type": "markdown",
   "metadata": {},
   "source": [
    "#  Loading JSON"
   ]
  },
  {
   "cell_type": "code",
   "execution_count": 3,
   "metadata": {
    "collapsed": false
   },
   "outputs": [
    {
     "name": "stdout",
     "output_type": "stream",
     "text": [
      "{'people': [{'emails': 'girisagar46@gmail.com', 'name': 'Sagar Giri', 'has_license': False, 'phone': ['9807360000', '9840207890']}, {'emails': None, 'name': 'Ram Bahadur', 'has_license': True, 'phone': ['9800000000']}]}\n",
      "<class 'dict'>\n"
     ]
    }
   ],
   "source": [
    "data = json.loads(json_string)\n",
    "print(data)\n",
    "\n",
    "# looks like Python dictionary\n",
    "print(type(data))"
   ]
  },
  {
   "cell_type": "markdown",
   "metadata": {},
   "source": [
    "### How conversion takes place under the hood"
   ]
  },
  {
   "cell_type": "markdown",
   "metadata": {},
   "source": [
    "![decode_incode](../images/JSON_encoder_decoder.png)\n",
    "\n",
    "source: [https://docs.python.org/2/library/json.html#encoders-and-decoders](https://docs.python.org/2/library/json.html#encoders-and-decoders)"
   ]
  },
  {
   "cell_type": "markdown",
   "metadata": {},
   "source": [
    "## Accessing"
   ]
  },
  {
   "cell_type": "code",
   "execution_count": 4,
   "metadata": {
    "collapsed": false
   },
   "outputs": [
    {
     "name": "stdout",
     "output_type": "stream",
     "text": [
      "<class 'list'>\n",
      "<class 'list'>\n",
      "<class 'bool'>\n"
     ]
    }
   ],
   "source": [
    "print(type(data[\"people\"]))\n",
    "print(type(data[\"people\"][0][\"phone\"]))\n",
    "print(type(data[\"people\"][0][\"has_license\"]))"
   ]
  },
  {
   "cell_type": "code",
   "execution_count": 5,
   "metadata": {
    "collapsed": false
   },
   "outputs": [
    {
     "name": "stdout",
     "output_type": "stream",
     "text": [
      "<class 'dict'>\n",
      "<class 'dict'>\n"
     ]
    }
   ],
   "source": [
    "# Since, our JSON data is converted to JSON object, we can loop through it\n",
    "for person in data[\"people\"]:\n",
    "    print(type(person))"
   ]
  },
  {
   "cell_type": "code",
   "execution_count": 6,
   "metadata": {
    "collapsed": false
   },
   "outputs": [
    {
     "name": "stdout",
     "output_type": "stream",
     "text": [
      "Sagar Giri\n",
      "Ram Bahadur\n"
     ]
    }
   ],
   "source": [
    "for person in data[\"people\"]:\n",
    "    print(person[\"name\"])"
   ]
  },
  {
   "cell_type": "markdown",
   "metadata": {},
   "source": [
    "## Modifying our JSON data"
   ]
  },
  {
   "cell_type": "code",
   "execution_count": 7,
   "metadata": {
    "collapsed": false
   },
   "outputs": [
    {
     "name": "stdout",
     "output_type": "stream",
     "text": [
      "{\n",
      "  \"people\": [\n",
      "    {\n",
      "      \"emails\": \"girisagar46@gmail.com\",\n",
      "      \"name\": \"Sagar Giri\",\n",
      "      \"has_license\": false\n",
      "    },\n",
      "    {\n",
      "      \"emails\": null,\n",
      "      \"name\": \"Ram Bahadur\",\n",
      "      \"has_license\": true\n",
      "    }\n",
      "  ]\n",
      "}\n"
     ]
    }
   ],
   "source": [
    "for person in data[\"people\"]:\n",
    "    \"\"\"Running this code again will throw KeyError since, in first run we deleted the value.\"\"\"\n",
    "    del person['phone'] \n",
    "    \n",
    "new_data = json.dumps(data, indent=2) #Indent means the formatting\n",
    "print(new_data)"
   ]
  },
  {
   "cell_type": "markdown",
   "metadata": {},
   "source": [
    "# Working with JSON files"
   ]
  },
  {
   "cell_type": "code",
   "execution_count": 8,
   "metadata": {
    "collapsed": false
   },
   "outputs": [
    {
     "data": {
      "text/plain": [
       "[{'_id': {'$oid': '5968dd23fc13ae04d9000001'},\n",
       "  'product_name': 'sildenafil citrate',\n",
       "  'quantity': 261,\n",
       "  'supplier': 'Wisozk Inc',\n",
       "  'unit_cost': '$10.47'},\n",
       " {'_id': {'$oid': '5968dd23fc13ae04d9000002'},\n",
       "  'product_name': 'Mountain Juniperus ashei',\n",
       "  'quantity': 292,\n",
       "  'supplier': 'Keebler-Hilpert',\n",
       "  'unit_cost': '$8.74'},\n",
       " {'_id': {'$oid': '5968dd23fc13ae04d9000003'},\n",
       "  'product_name': 'Dextromathorphan HBr',\n",
       "  'quantity': 211,\n",
       "  'supplier': 'Schmitt-Weissnat',\n",
       "  'unit_cost': '$20.53'}]"
      ]
     },
     "execution_count": 8,
     "metadata": {},
     "output_type": "execute_result"
    }
   ],
   "source": [
    "# loads loads a JSON string\n",
    "# load loads a JSON file\n",
    "\n",
    "import json\n",
    "\n",
    "with open(\"products.json\") as f:\n",
    "    data = json.load(f)\n",
    "\n",
    "data"
   ]
  },
  {
   "cell_type": "code",
   "execution_count": 9,
   "metadata": {
    "collapsed": false,
    "scrolled": true
   },
   "outputs": [
    {
     "name": "stdout",
     "output_type": "stream",
     "text": [
      "Name: sildenafil citrate, Cost: $10.47\n",
      "Name: Mountain Juniperus ashei, Cost: $8.74\n",
      "Name: Dextromathorphan HBr, Cost: $20.53\n"
     ]
    }
   ],
   "source": [
    "for product in data:\n",
    "    print(\"Name: {}, Cost: {}\".format(product.get(\"product_name\"),product.get(\"unit_cost\")))"
   ]
  },
  {
   "cell_type": "code",
   "execution_count": 10,
   "metadata": {
    "collapsed": true
   },
   "outputs": [],
   "source": [
    "# Let's delete _id from each object and write it in another JSON file\n",
    "\n",
    "for product in data:\n",
    "    del product['_id']\n",
    "    \n",
    "with open(\"new_product_data.json\", \"w\") as f:\n",
    "    json.dump(data, f, indent=2) #dumps method writes to string and dump writes to file\n",
    "    "
   ]
  },
  {
   "cell_type": "code",
   "execution_count": 11,
   "metadata": {
    "collapsed": false
   },
   "outputs": [
    {
     "data": {
      "text/plain": [
       "[{'product_name': 'sildenafil citrate',\n",
       "  'quantity': 261,\n",
       "  'supplier': 'Wisozk Inc',\n",
       "  'unit_cost': '$10.47'},\n",
       " {'product_name': 'Mountain Juniperus ashei',\n",
       "  'quantity': 292,\n",
       "  'supplier': 'Keebler-Hilpert',\n",
       "  'unit_cost': '$8.74'},\n",
       " {'product_name': 'Dextromathorphan HBr',\n",
       "  'quantity': 211,\n",
       "  'supplier': 'Schmitt-Weissnat',\n",
       "  'unit_cost': '$20.53'}]"
      ]
     },
     "execution_count": 11,
     "metadata": {},
     "output_type": "execute_result"
    }
   ],
   "source": [
    "with open(\"new_product_data.json\") as f:\n",
    "    data = json.load(f)\n",
    "\n",
    "data"
   ]
  },
  {
   "cell_type": "markdown",
   "metadata": {},
   "source": [
    "# Grabbing JSON data from WEB"
   ]
  },
  {
   "cell_type": "code",
   "execution_count": 18,
   "metadata": {
    "collapsed": false,
    "scrolled": true
   },
   "outputs": [
    {
     "name": "stdout",
     "output_type": "stream",
     "text": [
      "{'name': 'Sagar Giri', 'gists_url': 'https://api.github.com/users/girisagar46/gists{/gist_id}', 'email': None, 'hireable': True, 'updated_at': '2017-12-04T04:16:41Z', 'events_url': 'https://api.github.com/users/girisagar46/events{/privacy}', 'subscriptions_url': 'https://api.github.com/users/girisagar46/subscriptions', 'id': 6840782, 'public_repos': 55, 'bio': 'Getting things done. @CSIT-GUIDE ', 'received_events_url': 'https://api.github.com/users/girisagar46/received_events', 'created_at': '2014-03-03T14:59:45Z', 'public_gists': 4, 'followers': 32, 'type': 'User', 'avatar_url': 'https://avatars3.githubusercontent.com/u/6840782?v=4', 'site_admin': False, 'login': 'girisagar46', 'starred_url': 'https://api.github.com/users/girisagar46/starred{/owner}{/repo}', 'following_url': 'https://api.github.com/users/girisagar46/following{/other_user}', 'following': 60, 'location': 'Chabahil, Kathmandu, Nepal', 'url': 'https://api.github.com/users/girisagar46', 'organizations_url': 'https://api.github.com/users/girisagar46/orgs', 'gravatar_id': '', 'repos_url': 'https://api.github.com/users/girisagar46/repos', 'followers_url': 'https://api.github.com/users/girisagar46/followers', 'company': 'Deerwalk Institute of Technology', 'blog': 'http://girisagar46.github.io/', 'html_url': 'https://github.com/girisagar46'}\n"
     ]
    }
   ],
   "source": [
    "# pulling user info from GitHub\n",
    "\n",
    "import json\n",
    "from urllib.request import urlopen\n",
    "\n",
    "# here girisagar46 is a username\n",
    "with urlopen(\"https://api.github.com/users/girisagar46\") as response:\n",
    "    source = response.read().decode('utf-8') #since, api responds with byte instead of char, we need to decode it\n",
    "    \n",
    "source_data = json.loads(source)\n",
    "print(source_data)"
   ]
  },
  {
   "cell_type": "code",
   "execution_count": 20,
   "metadata": {
    "collapsed": false
   },
   "outputs": [
    {
     "name": "stdout",
     "output_type": "stream",
     "text": [
      "{\n",
      "  \"name\": \"Sagar Giri\",\n",
      "  \"gists_url\": \"https://api.github.com/users/girisagar46/gists{/gist_id}\",\n",
      "  \"email\": null,\n",
      "  \"hireable\": true,\n",
      "  \"updated_at\": \"2017-12-04T04:16:41Z\",\n",
      "  \"events_url\": \"https://api.github.com/users/girisagar46/events{/privacy}\",\n",
      "  \"subscriptions_url\": \"https://api.github.com/users/girisagar46/subscriptions\",\n",
      "  \"id\": 6840782,\n",
      "  \"public_repos\": 55,\n",
      "  \"bio\": \"Getting things done. @CSIT-GUIDE \",\n",
      "  \"received_events_url\": \"https://api.github.com/users/girisagar46/received_events\",\n",
      "  \"created_at\": \"2014-03-03T14:59:45Z\",\n",
      "  \"public_gists\": 4,\n",
      "  \"followers\": 32,\n",
      "  \"type\": \"User\",\n",
      "  \"avatar_url\": \"https://avatars3.githubusercontent.com/u/6840782?v=4\",\n",
      "  \"site_admin\": false,\n",
      "  \"login\": \"girisagar46\",\n",
      "  \"starred_url\": \"https://api.github.com/users/girisagar46/starred{/owner}{/repo}\",\n",
      "  \"following_url\": \"https://api.github.com/users/girisagar46/following{/other_user}\",\n",
      "  \"following\": 60,\n",
      "  \"location\": \"Chabahil, Kathmandu, Nepal\",\n",
      "  \"url\": \"https://api.github.com/users/girisagar46\",\n",
      "  \"organizations_url\": \"https://api.github.com/users/girisagar46/orgs\",\n",
      "  \"gravatar_id\": \"\",\n",
      "  \"repos_url\": \"https://api.github.com/users/girisagar46/repos\",\n",
      "  \"followers_url\": \"https://api.github.com/users/girisagar46/followers\",\n",
      "  \"company\": \"Deerwalk Institute of Technology\",\n",
      "  \"blog\": \"http://girisagar46.github.io/\",\n",
      "  \"html_url\": \"https://github.com/girisagar46\"\n",
      "}\n"
     ]
    }
   ],
   "source": [
    "# We saved the response into our variable, we can reuse it\n",
    "print(json.dumps(source_data, indent=2))"
   ]
  },
  {
   "cell_type": "code",
   "execution_count": 22,
   "metadata": {
    "collapsed": false
   },
   "outputs": [
    {
     "name": "stdout",
     "output_type": "stream",
     "text": [
      "Sagar Giri\n",
      "girisagar46\n",
      "http://girisagar46.github.io/\n",
      "https://github.com/girisagar46\n"
     ]
    }
   ],
   "source": [
    "# Getting relevant information\n",
    "print(source_data['name'])\n",
    "print(source_data['login'])\n",
    "print(source_data['blog'])\n",
    "print(source_data['html_url'])"
   ]
  },
  {
   "cell_type": "code",
   "execution_count": 25,
   "metadata": {
    "collapsed": false
   },
   "outputs": [],
   "source": [
    "# Let's get repository information \n",
    "\n",
    "with urlopen(\"https://api.github.com/users/girisagar46/repos\") as response:\n",
    "    source = response.read().decode('utf-8') #since, api responds with byte instead of char, we need to decode it\n",
    "    \n",
    "repo_info = json.loads(source)"
   ]
  },
  {
   "cell_type": "code",
   "execution_count": 28,
   "metadata": {
    "collapsed": false
   },
   "outputs": [
    {
     "name": "stdout",
     "output_type": "stream",
     "text": [
      "angularity\tautomatic-memes\tawesome-django\tawesome-python\tchallenges\tColorRecognizer\tDesignPatterns-Python\tdn-python-meetup-8\tecommerce\telements-of-python-style\tFacebookGraphAPI-Examples\tfeaturerequest\tflair\tflask_restipy\tFlex\tFYPFruitClassifier\tgirisagar46.github.io\tgrails-angularjs-springsecurity-workshop\tgss\thackathon\thacker-scripts\tHackPrincetonF16\tHackSchool\thave-fun-with-machine-learning\tHeriTag\thow-to-contribute-to-open-source\tHTML-CSS-Form\tHVACDataAnalysis\tjava-design-patterns\tjava8features\t"
     ]
    }
   ],
   "source": [
    "for each_repo in repo_info:\n",
    "    print(each_repo.get(\"name\"), end=\"\\t\")"
   ]
  }
 ],
 "metadata": {
  "kernelspec": {
   "display_name": "Python 3",
   "language": "python",
   "name": "python3"
  },
  "language_info": {
   "codemirror_mode": {
    "name": "ipython",
    "version": 3
   },
   "file_extension": ".py",
   "mimetype": "text/x-python",
   "name": "python",
   "nbconvert_exporter": "python",
   "pygments_lexer": "ipython3",
   "version": "3.6.0"
  }
 },
 "nbformat": 4,
 "nbformat_minor": 0
}
