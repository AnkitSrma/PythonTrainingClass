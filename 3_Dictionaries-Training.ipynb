{
 "cells": [
  {
   "cell_type": "markdown",
   "metadata": {},
   "source": [
    "# Dictionary"
   ]
  },
  {
   "cell_type": "markdown",
   "metadata": {},
   "source": [
    "* Dictionary is another useful data type built into Python.\n",
    "* Dictionaries are sometimes found in other languages as \"associative memories\" or \"associative arrays\" or \"Hash Maps\".\n",
    "* Unlike sequences like lists, tuples, sets, which are indexed by a range of numbers, dictionaries are indexed by keys.\n",
    "* Keys in dictionary can be any immutable type (strings, numbers). \n",
    "* Tuples can be used as keys if they contain only strings, numbers, or tuples\n",
    "* But, if a tuple contains any mutable object (list, set) either directly or indirectly, it cannot be used as a key. \n",
    "* Can't use lists as keys, since lists can be modified in place using index assignments, slice assignments, or methods like `append()` and `extend()`."
   ]
  },
  {
   "cell_type": "markdown",
   "metadata": {},
   "source": [
    "* It is best to think of a dictionary as an unordered set of **`key: value`** pairs\n",
    "* The requirement is that the keys are unique (within one dictionary). \n",
    "* A pair of braces creates an empty dictionary: `{}`. \n",
    "* The main operations on a dictionary are storing a value with some key and extracting the value given the key. "
   ]
  },
  {
   "cell_type": "code",
   "execution_count": 1,
   "metadata": {
    "collapsed": false,
    "scrolled": true
   },
   "outputs": [
    {
     "name": "stdout",
     "output_type": "stream",
     "text": [
      "<class 'dict'>\n",
      "<class 'dict'>\n"
     ]
    }
   ],
   "source": [
    "empty_dict = {}\n",
    "object_dict = dict()\n",
    "print(type(empty_dict))\n",
    "print(type(object_dict))"
   ]
  },
  {
   "cell_type": "code",
   "execution_count": 2,
   "metadata": {
    "collapsed": true
   },
   "outputs": [],
   "source": [
    "subject = {\n",
    "        \"name\": \"Python\",\n",
    "        \"type\": \"Training\",\n",
    "        \"hasExam\": True,\n",
    "        \"hasProject\": True,\n",
    "        \"gradeSystem\": [\"A+\", \"A\", \"B\", \"C\", \"F\"],\n",
    "        (\"Attendance\", ): \"Must for everyone\"    \n",
    "    }"
   ]
  },
  {
   "cell_type": "code",
   "execution_count": 3,
   "metadata": {
    "collapsed": false
   },
   "outputs": [
    {
     "name": "stdout",
     "output_type": "stream",
     "text": [
      "Dictionary items =  {'name': 'Python', 'type': 'Training', 'hasExam': True, 'hasProject': True, 'gradeSystem': ['A+', 'A', 'B', 'C', 'F'], ('Attendance',): 'Must for everyone'}\n",
      "Length =  6\n"
     ]
    }
   ],
   "source": [
    "print(\"Dictionary items = \",subject)\n",
    "print(\"Length = \", len(subject))"
   ]
  },
  {
   "cell_type": "code",
   "execution_count": 4,
   "metadata": {
    "collapsed": false
   },
   "outputs": [
    {
     "name": "stdout",
     "output_type": "stream",
     "text": [
      "{'Game of Thrones': 9.5, 'Band of Brothers': 9.5, 'The Wire': 9.3, 'The Sopranos': 9.2}\n"
     ]
    }
   ],
   "source": [
    "my_list = [\n",
    "        ('Game of Thrones', 9.5), \n",
    "        ('Band of Brothers', 9.5), \n",
    "        ('The Wire', 9.3), \n",
    "        ('The Sopranos', 9.2)]\n",
    "\n",
    "hbo = dict(my_list)\n",
    "print(hbo)"
   ]
  },
  {
   "cell_type": "markdown",
   "metadata": {},
   "source": [
    "### Accessing"
   ]
  },
  {
   "cell_type": "code",
   "execution_count": 5,
   "metadata": {
    "collapsed": false
   },
   "outputs": [
    {
     "name": "stdout",
     "output_type": "stream",
     "text": [
      "Python\n",
      "True\n"
     ]
    }
   ],
   "source": [
    "subject = {\n",
    "        \"name\": \"Python\",\n",
    "        \"type\": \"Training\",\n",
    "        \"hasExam\": True,\n",
    "        \"hasProject\": True,\n",
    "        \"gradeSystem\": [\"A+\", \"A\", \"B\", \"C\", \"F\"],\n",
    "        (\"Attendance\", ): \"Must for everyone\"    \n",
    "    }\n",
    "print(subject[\"name\"])\n",
    "print(subject[\"hasExam\"])"
   ]
  },
  {
   "cell_type": "code",
   "execution_count": 6,
   "metadata": {
    "collapsed": false
   },
   "outputs": [
    {
     "data": {
      "text/plain": [
       "['9807368808', '9840298278']"
      ]
     },
     "execution_count": 6,
     "metadata": {},
     "output_type": "execute_result"
    }
   ],
   "source": [
    "phone_book = {\n",
    "    \"sagar\": [\"9807368808\", \"9840298278\"],\n",
    "    \"hari\": [\"9800000000\"]\n",
    "}\n",
    "\n",
    "phone_book[\"sagar\"]"
   ]
  },
  {
   "cell_type": "code",
   "execution_count": 7,
   "metadata": {
    "collapsed": false,
    "scrolled": true
   },
   "outputs": [
    {
     "name": "stdout",
     "output_type": "stream",
     "text": [
      "{'ncell': '9807368808', 'ntc': '9840298278'}\n",
      "9807368808\n"
     ]
    }
   ],
   "source": [
    "phone_book = {\n",
    "    \"sagar\": {\"ncell\": \"9807368808\", \n",
    "              \"ntc\":\"9840298278\"},\n",
    "    \"hari\": [\"9800000000\"]\n",
    "}\n",
    "print(phone_book[\"sagar\"])\n",
    "print(phone_book[\"sagar\"][\"ncell\"])"
   ]
  },
  {
   "cell_type": "code",
   "execution_count": 8,
   "metadata": {
    "collapsed": false
   },
   "outputs": [
    {
     "name": "stdout",
     "output_type": "stream",
     "text": [
      "9.2\n"
     ]
    }
   ],
   "source": [
    "tv_shows = {\n",
    "    \"HBO\": {\n",
    "        'The Sopranos': 9.2, \n",
    "        'The Wire': 9.3, \n",
    "        'Band of Brothers': 9.5, \n",
    "        'Game of Thrones': 9.5\n",
    "    },\n",
    "    \"AMC\": {\n",
    "        \"Breaking Bad\":9.5, \n",
    "        \"Better Call Saul\":8.7, \n",
    "        \"The Walking Dead\":8.5\n",
    "    }\n",
    "}\n",
    "print(tv_shows[\"HBO\"]['The Sopranos'])"
   ]
  },
  {
   "cell_type": "code",
   "execution_count": 9,
   "metadata": {
    "collapsed": false
   },
   "outputs": [
    {
     "name": "stdout",
     "output_type": "stream",
     "text": [
      "Iron Man\n",
      "Batman\n",
      "None\n",
      "pixar Not found\n"
     ]
    }
   ],
   "source": [
    "studio = {\n",
    "    \"marvel\" : \"Iron Man\",\n",
    "    \"dc\" : \"Batman\"\n",
    "}\n",
    "\n",
    "print(studio.get(\"marvel\"))\n",
    "print(studio.get(\"dc\"))\n",
    "print(studio.get(\"pixar\"))\n",
    "print(studio.get(\"pixar\", \"pixar Not found\"))"
   ]
  },
  {
   "cell_type": "markdown",
   "metadata": {},
   "source": [
    "## Inserting"
   ]
  },
  {
   "cell_type": "code",
   "execution_count": 10,
   "metadata": {
    "collapsed": false
   },
   "outputs": [
    {
     "name": "stdout",
     "output_type": "stream",
     "text": [
      "{'marvel': 'Iron Man', 'dc': 'Batman', 'pixar': 'Toy Story'}\n"
     ]
    }
   ],
   "source": [
    "studio = {\n",
    "    \"marvel\" : \"Iron Man\",\n",
    "    \"dc\" : \"Batman\"\n",
    "}\n",
    "\n",
    "studio[\"pixar\"] = \"Toy Story\"\n",
    "\n",
    "print(studio)"
   ]
  },
  {
   "cell_type": "markdown",
   "metadata": {},
   "source": [
    "## Modifying"
   ]
  },
  {
   "cell_type": "code",
   "execution_count": 11,
   "metadata": {
    "collapsed": false
   },
   "outputs": [
    {
     "name": "stdout",
     "output_type": "stream",
     "text": [
      "{'marvel': 'Thor', 'dc': 'Batman'}\n"
     ]
    }
   ],
   "source": [
    "studio = {\n",
    "    \"marvel\" : \"Iron Man\",\n",
    "    \"dc\" : \"Batman\"\n",
    "}\n",
    "\n",
    "studio[\"marvel\"] = \"Thor\"\n",
    "\n",
    "print(studio)"
   ]
  },
  {
   "cell_type": "code",
   "execution_count": 12,
   "metadata": {
    "collapsed": false
   },
   "outputs": [
    {
     "name": "stdout",
     "output_type": "stream",
     "text": [
      "{'marvel': 'Iron Man', 'dc': 'Batman', 'pixar': 'Toy Story'}\n"
     ]
    }
   ],
   "source": [
    "studio = {\n",
    "    \"marvel\" : \"Iron Man\",\n",
    "    \"dc\" : \"Batman\"\n",
    "}\n",
    "\n",
    "studio.update({\"pixar\": \"Toy Story\"})\n",
    "print(studio)"
   ]
  },
  {
   "cell_type": "code",
   "execution_count": 13,
   "metadata": {
    "collapsed": false
   },
   "outputs": [
    {
     "name": "stdout",
     "output_type": "stream",
     "text": [
      "{'marvel': 'Thor', 'dc': 'Batman', 'pixar': 'Toy Story'}\n"
     ]
    }
   ],
   "source": [
    "studio = {\n",
    "    \"marvel\" : \"Iron Man\",\n",
    "    \"dc\" : \"Batman\"\n",
    "}\n",
    "\n",
    "studio.update({\"marvel\" : \"Thor\", \"pixar\": \"Toy Story\"})\n",
    "print(studio)"
   ]
  },
  {
   "cell_type": "markdown",
   "metadata": {},
   "source": [
    "## Deleting"
   ]
  },
  {
   "cell_type": "code",
   "execution_count": 14,
   "metadata": {
    "collapsed": false
   },
   "outputs": [
    {
     "name": "stdout",
     "output_type": "stream",
     "text": [
      "{'marvel': 'Iron Man', 'dc': 'Batman', 'pixar': 'Toy Story'}\n",
      "=========After delete=========\n",
      "{'marvel': 'Iron Man', 'dc': 'Batman'}\n"
     ]
    }
   ],
   "source": [
    "studio = {\n",
    "    \"marvel\" : \"Iron Man\",\n",
    "    \"dc\" : \"Batman\",\n",
    "    \"pixar\": \"Toy Story\"\n",
    "}\n",
    "print(studio)\n",
    "\n",
    "del studio[\"pixar\"]\n",
    "print(\"=========After delete=========\")\n",
    "print(studio)"
   ]
  },
  {
   "cell_type": "code",
   "execution_count": 15,
   "metadata": {
    "collapsed": false
   },
   "outputs": [
    {
     "name": "stdout",
     "output_type": "stream",
     "text": [
      "Toy Story\n",
      "{'marvel': 'Iron Man', 'dc': 'Batman'}\n"
     ]
    }
   ],
   "source": [
    "studio = {\n",
    "    \"marvel\" : \"Iron Man\",\n",
    "    \"dc\" : \"Batman\",\n",
    "    \"pixar\": \"Toy Story\"\n",
    "}\n",
    "\n",
    "pixar_studio = studio.pop(\"pixar\")\n",
    "print(pixar_studio)\n",
    "print(studio)"
   ]
  },
  {
   "cell_type": "markdown",
   "metadata": {},
   "source": [
    "## Other methods"
   ]
  },
  {
   "cell_type": "code",
   "execution_count": 16,
   "metadata": {
    "collapsed": false
   },
   "outputs": [
    {
     "name": "stdout",
     "output_type": "stream",
     "text": [
      "3\n",
      "dict_keys([1, 2, 3])\n",
      "dict_values(['Batman: The Beginning', 'Batman: The Dark Knight', 'Batman: The Dark Knight Rises'])\n",
      "dict_items([(1, 'Batman: The Beginning'), (2, 'Batman: The Dark Knight'), (3, 'Batman: The Dark Knight Rises')])\n",
      "True\n",
      "True\n"
     ]
    }
   ],
   "source": [
    "batman_triology = {\n",
    "    1 : \"Batman: The Beginning\",\n",
    "    2 : \"Batman: The Dark Knight\",\n",
    "    3 : 'Batman: The Dark Knight Rises',\n",
    "}\n",
    "\n",
    "print(len(batman_triology))\n",
    "print(batman_triology.keys())\n",
    "print(batman_triology.values())\n",
    "print(batman_triology.items())\n",
    "print(1 in batman_triology)\n",
    "print(4 not in batman_triology)"
   ]
  },
  {
   "cell_type": "code",
   "execution_count": 17,
   "metadata": {
    "collapsed": false
   },
   "outputs": [
    {
     "name": "stdout",
     "output_type": "stream",
     "text": [
      "{1: 'Batman: The Beginning', 2: 'Batman: The Dark Knight', 3: 'Batman: The Dark Knight Rises'}\n",
      "{}\n"
     ]
    }
   ],
   "source": [
    "batman_triology = {\n",
    "    1 : \"Batman: The Beginning\",\n",
    "    2 : \"Batman: The Dark Knight\",\n",
    "    3 : 'Batman: The Dark Knight Rises',\n",
    "}\n",
    "\n",
    "print(batman_triology)\n",
    "batman_triology.clear() # clears\n",
    "print(batman_triology)"
   ]
  },
  {
   "cell_type": "markdown",
   "metadata": {},
   "source": [
    "## Looping"
   ]
  },
  {
   "cell_type": "code",
   "execution_count": 18,
   "metadata": {
    "collapsed": false
   },
   "outputs": [
    {
     "name": "stdout",
     "output_type": "stream",
     "text": [
      "The Sopranos\n",
      "The Wire\n",
      "Band of Brothers\n",
      "Game of Thrones\n"
     ]
    }
   ],
   "source": [
    "hbo_tv_shows = {'The Sopranos': 9.2, 'The Wire': 9.3, 'Band of Brothers': 9.5, 'Game of Thrones': 9.5}\n",
    "for name in hbo_tv_shows:\n",
    "    print(name)"
   ]
  },
  {
   "cell_type": "code",
   "execution_count": 19,
   "metadata": {
    "collapsed": false
   },
   "outputs": [
    {
     "name": "stdout",
     "output_type": "stream",
     "text": [
      "Show Name: Breaking Bad, IMDB rating: 9.5\n",
      "Show Name: Better Call Saul, IMDB rating: 8.7\n",
      "Show Name: The Walking Dead, IMDB rating: 8.5\n"
     ]
    }
   ],
   "source": [
    "amc_tv_shows = {\"Breaking Bad\":9.5, \"Better Call Saul\":8.7, \"The Walking Dead\":8.5\n",
    "               }\n",
    "for name, rating in amc_tv_shows.items():\n",
    "    print(\"Show Name: {0}, IMDB rating: {1}\".format(name, rating))\n"
   ]
  },
  {
   "cell_type": "code",
   "execution_count": 20,
   "metadata": {
    "collapsed": false
   },
   "outputs": [
    {
     "name": "stdout",
     "output_type": "stream",
     "text": [
      "For channel: HBO\n",
      "Show Name: The Sopranos, IMDB Rating: 9.2\n",
      "Show Name: The Wire, IMDB Rating: 9.3\n",
      "Show Name: Band of Brothers, IMDB Rating: 9.5\n",
      "Show Name: Game of Thrones, IMDB Rating: 9.5\n",
      "For channel: AMC\n",
      "Show Name: Breaking Bad, IMDB Rating: 9.5\n",
      "Show Name: Better Call Saul, IMDB Rating: 8.7\n",
      "Show Name: The Walking Dead, IMDB Rating: 8.5\n"
     ]
    }
   ],
   "source": [
    "tv_shows = {\n",
    "    \"HBO\": {'The Sopranos': 9.2, 'The Wire': 9.3, 'Band of Brothers': 9.5, 'Game of Thrones': 9.5},\n",
    "    \"AMC\": {\"Breaking Bad\":9.5, \"Better Call Saul\":8.7, \"The Walking Dead\":8.5}\n",
    "}\n",
    "\n",
    "\n",
    "for channel, shows in tv_shows.items():\n",
    "    print(\"For channel:\", channel)\n",
    "    for show, rating in shows.items():\n",
    "        print(\"Show Name: {0}, IMDB Rating: {1}\".format(show, rating))"
   ]
  },
  {
   "cell_type": "code",
   "execution_count": 21,
   "metadata": {
    "collapsed": false
   },
   "outputs": [
    {
     "name": "stdout",
     "output_type": "stream",
     "text": [
      "The Sopranos : 9.2\n",
      "The Wire : 9.3\n",
      "Band of Brothers : 9.5\n",
      "Game of Thrones : 9.5\n",
      "Breaking Bad : 9.5\n",
      "Better Call Saul : 8.7\n",
      "The Walking Dead : 8.5\n"
     ]
    }
   ],
   "source": [
    "tv_shows = {\n",
    "    \"HBO\": {'The Sopranos': 9.2, 'The Wire': 9.3, 'Band of Brothers': 9.5, 'Game of Thrones': 9.5},\n",
    "    \"AMC\": {\"Breaking Bad\":9.5, \"Better Call Saul\":8.7, \"The Walking Dead\":8.5}\n",
    "}\n",
    "\n",
    "# tv_shows = {\n",
    "#     \"HBO\": {'The Sopranos': 9.2, 'The Wire': 9.3, 'Band of Brothers': 9.5, 'Game of Thrones': 9.5},\n",
    "#     \"AMC\": {\"Breaking Bad\":9.5, \"Better Call Saul\":8.7, \"Walking Dead\":{\"Fear The Walking dead\":7.5, \"The Walking Dead\": 8.5}}\n",
    "# }\n",
    "\n",
    "\n",
    "\n",
    "def myprint(d):\n",
    "    for k, v in d.items():\n",
    "        if type(v) is dict:\n",
    "            myprint(v)\n",
    "        else:\n",
    "            print(\"{0} : {1}\".format(k, v))\n",
    "            \n",
    "myprint(d = tv_shows)"
   ]
  },
  {
   "cell_type": "markdown",
   "metadata": {},
   "source": [
    "## Built-in Dictionary Functions & Methods:\n",
    "\n",
    "* `len(dictonary)`\n",
    "* `str(dict)`\n",
    "* `type(variable)`\n",
    "* `dictionary.copy()`\n",
    "* `dictionary.fromkeys(seq,values)`\n",
    "* `dictionary.get(key,default_value)`\n",
    "* `dictionary.has_key(‘key’)`\n",
    "* `dictionary.items()`\n",
    "* `dictionary.keys()`\n",
    "* `dictionary.setdefault(key, default)`\n",
    "* `dictionary.update(dictionary2)`\n",
    "* `dictionary.values()`"
   ]
  }
 ],
 "metadata": {
  "kernelspec": {
   "display_name": "Python 3",
   "language": "python",
   "name": "python3"
  },
  "language_info": {
   "codemirror_mode": {
    "name": "ipython",
    "version": 3
   },
   "file_extension": ".py",
   "mimetype": "text/x-python",
   "name": "python",
   "nbconvert_exporter": "python",
   "pygments_lexer": "ipython3",
   "version": "3.6.0"
  }
 },
 "nbformat": 4,
 "nbformat_minor": 0
}
