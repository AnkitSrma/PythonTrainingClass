{
 "cells": [
  {
   "cell_type": "markdown",
   "metadata": {},
   "source": [
    "# Dictionary"
   ]
  },
  {
   "cell_type": "markdown",
   "metadata": {},
   "source": [
    "* Dictionary is another useful data type built into Python.\n",
    "* Dictionaries are sometimes found in other languages as \"associative memories\" or \"associative arrays\" or \"Hash Maps\".\n",
    "* Unlike sequences like lists, tuples, sets, which are indexed by a range of numbers, dictionaries are indexed by keys.\n",
    "* Keys in dictionary can be any immutable type (strings, numbers). \n",
    "* Tuples can be used as keys if they contain only strings, numbers, or tuples\n",
    "* But, if a tuple contains any mutable object (list, set) either directly or indirectly, it cannot be used as a key. \n",
    "* Can't use lists as keys, since lists can be modified in place using index assignments, slice assignments, or methods like `append()` and `extend()`."
   ]
  },
  {
   "cell_type": "markdown",
   "metadata": {},
   "source": [
    "* It is best to think of a dictionary as an unordered set of **`key: value`** pairs\n",
    "* The requirement is that the keys are unique (within one dictionary). \n",
    "* A pair of braces creates an empty dictionary: `{}`. \n",
    "* The main operations on a dictionary are storing a value with some key and extracting the value given the key. "
   ]
  },
  {
   "cell_type": "code",
   "execution_count": null,
   "metadata": {
    "scrolled": true
   },
   "outputs": [],
   "source": [
    "empty_dict = {}\n",
    "object_dict = dict()\n",
    "print(type(empty_dict))\n",
    "print(type(object_dict))"
   ]
  },
  {
   "cell_type": "code",
   "execution_count": null,
   "metadata": {},
   "outputs": [],
   "source": [
    "subject = {\n",
    "        \"name\": \"Python\",\n",
    "        \"type\": \"Extra Credit\",\n",
    "        \"hasExam\": True,\n",
    "        \"midTerm\": 40,\n",
    "        \"finalTerm\": 80,\n",
    "        \"gradeSystem\": [\"A+\", \"A\", \"B\", \"C\", \"F\"],\n",
    "        (\"Assignment\", ): \"Once a week\"    \n",
    "    }"
   ]
  },
  {
   "cell_type": "code",
   "execution_count": null,
   "metadata": {},
   "outputs": [],
   "source": [
    "print(\"Dictionary items = \",subject)\n",
    "print(\"Length = \", len(subject))"
   ]
  },
  {
   "cell_type": "code",
   "execution_count": null,
   "metadata": {},
   "outputs": [],
   "source": [
    "my_list = [\n",
    "        ('Game of Thrones', 9.5), \n",
    "        ('Band of Brothers', 9.5), \n",
    "        ('The Wire', 9.3), \n",
    "        ('The Sopranos', 9.2)]\n",
    "\n",
    "hbo = dict(my_list)\n",
    "print(hbo)"
   ]
  },
  {
   "cell_type": "markdown",
   "metadata": {},
   "source": [
    "## Pretty printing"
   ]
  },
  {
   "cell_type": "code",
   "execution_count": null,
   "metadata": {
    "scrolled": true
   },
   "outputs": [],
   "source": [
    "import pprint\n",
    "pp = pprint.PrettyPrinter(indent=4)\n",
    "pp.pprint(hbo)"
   ]
  },
  {
   "cell_type": "markdown",
   "metadata": {},
   "source": [
    "### Accessing"
   ]
  },
  {
   "cell_type": "code",
   "execution_count": null,
   "metadata": {},
   "outputs": [],
   "source": [
    "subject = { \"name\": \"Python\", \n",
    "           \"type\": \"Extra Credit\", \n",
    "           \"hasExam\": True, \n",
    "           \"midTerm\": 40, \n",
    "           \"finalTerm\": 80, \n",
    "           \"gradeSystem\": [\"A+\", \"A\", \"B\", \"C\", \"F\"], \n",
    "           (\"Assignment\", ): \"Once a week\"\n",
    "          }\n",
    "print(subject[\"name\"])\n",
    "print(subject[\"hasExam\"])"
   ]
  },
  {
   "cell_type": "code",
   "execution_count": null,
   "metadata": {},
   "outputs": [],
   "source": [
    "phone_book = {\n",
    "    \"sagar\": [\"9807368808\", \"9840298278\"],\n",
    "    \"hari\": [\"9800000000\"]\n",
    "}\n",
    "\n",
    "phone_book[\"sagar\"]"
   ]
  },
  {
   "cell_type": "code",
   "execution_count": null,
   "metadata": {
    "scrolled": true
   },
   "outputs": [],
   "source": [
    "phone_book = {\n",
    "    \"sagar\": {\"ncell\": \"9807368808\", \n",
    "              \"ntc\":\"9840298278\"},\n",
    "    \"hari\": [\"9800000000\"]\n",
    "}\n",
    "print(phone_book[\"sagar\"])\n",
    "print(phone_book[\"sagar\"][\"ncell\"])"
   ]
  },
  {
   "cell_type": "code",
   "execution_count": null,
   "metadata": {},
   "outputs": [],
   "source": [
    "tv_shows = {\n",
    "    \"HBO\": {'The Sopranos': 9.2, 'The Wire': 9.3, 'Band of Brothers': 9.5, 'Game of Thrones': 9.5},\n",
    "    \"AMC\": {\"Breaking Bad\":9.5, \"Better Call Saul\":8.7, \"The Walking Dead\":8.5}\n",
    "}\n",
    "print(tv_shows[\"HBO\"]['The Sopranos'])"
   ]
  },
  {
   "cell_type": "code",
   "execution_count": null,
   "metadata": {},
   "outputs": [],
   "source": [
    "semester_three = {\n",
    "    \"section_a\" : \"Bishesh Katwal\",\n",
    "    \"section_b\" : \"Ceema Tamang\"\n",
    "}\n",
    "\n",
    "print(semester_three.get(\"section_a\"))\n",
    "print(semester_three.get(\"section_b\"))\n",
    "print(semester_three.get(\"section_c\"))\n",
    "print(semester_three.get(\"section_c\", \"section_c Not found\"))"
   ]
  },
  {
   "cell_type": "markdown",
   "metadata": {},
   "source": [
    "## Inserting"
   ]
  },
  {
   "cell_type": "code",
   "execution_count": null,
   "metadata": {},
   "outputs": [],
   "source": [
    "semester_three = {\n",
    "    \"section_a\" : \"Bishesh Katwal\",\n",
    "    \"section_b\" : \"Ceema Tamang\"\n",
    "}\n",
    "\n",
    "semester_three[\"section_c\"] = \"Ram Bahadur\"\n",
    "\n",
    "print(semester_three)"
   ]
  },
  {
   "cell_type": "markdown",
   "metadata": {},
   "source": [
    "## Modifying"
   ]
  },
  {
   "cell_type": "code",
   "execution_count": null,
   "metadata": {},
   "outputs": [],
   "source": [
    "semester_three = {\n",
    "    \"section_a\" : \"Bishesh Katwal\",\n",
    "    \"section_b\" : \"Ceema Tamang\"\n",
    "}\n",
    "\n",
    "semester_three[\"section_a\"] = \"Avina Nakarmi\"\n",
    "\n",
    "print(semester_three)"
   ]
  },
  {
   "cell_type": "code",
   "execution_count": null,
   "metadata": {},
   "outputs": [],
   "source": [
    "semester_three = {\n",
    "    \"section_a\" : \"Bishesh Katwal\",\n",
    "    \"section_b\" : \"Ceema Tamang\"\n",
    "}\n",
    "\n",
    "semester_three.update({\"section_c\": \"Ram bahadur\"})\n",
    "print(semester_three)"
   ]
  },
  {
   "cell_type": "code",
   "execution_count": null,
   "metadata": {},
   "outputs": [],
   "source": [
    "semester_three = {\n",
    "    \"section_a\" : \"Bishesh Katwal\",\n",
    "    \"section_b\" : \"Ceema Tamang\"\n",
    "}\n",
    "\n",
    "semester_three.update({\"section_a\" : \"Avina Nakarmi\", \"section_c\": \"Ram bahadur\"})\n",
    "print(semester_three)"
   ]
  },
  {
   "cell_type": "markdown",
   "metadata": {},
   "source": [
    "## Deleting"
   ]
  },
  {
   "cell_type": "code",
   "execution_count": null,
   "metadata": {},
   "outputs": [],
   "source": [
    "semester_three = {\n",
    "    \"section_a\" : \"Bishesh Katwal\",\n",
    "    \"section_b\" : \"Ceema Tamang\",\n",
    "    'section_c': 'Ram bahadur'\n",
    "}\n",
    "print(semester_three)\n",
    "\n",
    "del semester_three[\"section_c\"]\n",
    "print(\"=========After delete=========\")\n",
    "print(semester_three)"
   ]
  },
  {
   "cell_type": "code",
   "execution_count": null,
   "metadata": {},
   "outputs": [],
   "source": [
    "semester_three = {\n",
    "    \"section_a\" : \"Bishesh Katwal\",\n",
    "    \"section_b\" : \"Ceema Tamang\",\n",
    "    'section_c': 'Ram bahadur'\n",
    "}\n",
    "print(semester_three)\n",
    "section_c = semester_three.pop(\"section_c\")\n",
    "print(semester_three)\n",
    "print(section_c)"
   ]
  },
  {
   "cell_type": "code",
   "execution_count": null,
   "metadata": {},
   "outputs": [],
   "source": [
    "contact = {\n",
    "    \"abc\": 980736000,\n",
    "    \"cde\": 454564564\n",
    "}\n",
    "\n",
    "def f():\n",
    "    print(contact.get(input(\"Enter name\"), \"not found\"))\n",
    "\n",
    "f()"
   ]
  },
  {
   "cell_type": "code",
   "execution_count": null,
   "metadata": {},
   "outputs": [],
   "source": []
  },
  {
   "cell_type": "code",
   "execution_count": null,
   "metadata": {},
   "outputs": [],
   "source": []
  },
  {
   "cell_type": "code",
   "execution_count": null,
   "metadata": {},
   "outputs": [],
   "source": []
  },
  {
   "cell_type": "code",
   "execution_count": null,
   "metadata": {},
   "outputs": [],
   "source": []
  },
  {
   "cell_type": "code",
   "execution_count": null,
   "metadata": {},
   "outputs": [],
   "source": []
  },
  {
   "cell_type": "code",
   "execution_count": null,
   "metadata": {},
   "outputs": [],
   "source": []
  },
  {
   "cell_type": "code",
   "execution_count": null,
   "metadata": {},
   "outputs": [],
   "source": []
  },
  {
   "cell_type": "markdown",
   "metadata": {},
   "source": [
    "## Other methods"
   ]
  },
  {
   "cell_type": "code",
   "execution_count": null,
   "metadata": {},
   "outputs": [],
   "source": [
    "section_a = {\n",
    "    123 : \"Bishesh Katwal\",\n",
    "    456 : \"Ceema Tamang\",\n",
    "    789 : 'Madan Bahadur',\n",
    "    890 : 'Hari Bahadur'\n",
    "}\n",
    "\n",
    "print(len(section_a))\n",
    "print(section_a.keys())\n",
    "print(section_a.values())\n",
    "print(section_a.items())\n",
    "print(123 in section_a)\n",
    "print(111 in section_a)"
   ]
  },
  {
   "cell_type": "code",
   "execution_count": null,
   "metadata": {},
   "outputs": [],
   "source": [
    "section_a = {\n",
    "    123 : \"Bishesh Katwal\",\n",
    "    456 : \"Ceema Tamang\",\n",
    "    789 : 'Madan Bahadur',\n",
    "    789 : 'Hari Bahadur'\n",
    "}\n",
    "\n",
    "print(section_a)\n",
    "section_a.clear() # clears\n",
    "print(section_a)"
   ]
  },
  {
   "cell_type": "markdown",
   "metadata": {},
   "source": [
    "## Looping"
   ]
  },
  {
   "cell_type": "code",
   "execution_count": null,
   "metadata": {},
   "outputs": [],
   "source": [
    "hbo_tv_shows = {'The Sopranos': 9.2, 'The Wire': 9.3, 'Band of Brothers': 9.5, 'Game of Thrones': 9.5}\n",
    "for name in hbo_tv_shows:\n",
    "    print(name)"
   ]
  },
  {
   "cell_type": "code",
   "execution_count": null,
   "metadata": {},
   "outputs": [],
   "source": [
    "amc_tv_shows = {\"Breaking Bad\":9.5, \"Better Call Saul\":8.7, \"The Walking Dead\":8.5\n",
    "               }\n",
    "for name, rating in amc_tv_shows.items():\n",
    "    print(\"Show Name: {0}, IMDB rating: {1}\".format(name, rating))\n"
   ]
  },
  {
   "cell_type": "code",
   "execution_count": null,
   "metadata": {},
   "outputs": [],
   "source": [
    "tv_shows = {\n",
    "    \"HBO\": {'The Sopranos': 9.2, 'The Wire': 9.3, 'Band of Brothers': 9.5, 'Game of Thrones': 9.5},\n",
    "    \"AMC\": {\"Breaking Bad\":9.5, \"Better Call Saul\":8.7, \"The Walking Dead\":8.5}\n",
    "}\n",
    "\n",
    "\n",
    "for channel, shows in tv_shows.items():\n",
    "    print(\"For channel:\", channel)\n",
    "    for show, rating in shows.items():\n",
    "        print(\"Show Name: {0}, IMDB Rating: {1}\".format(show, rating))"
   ]
  },
  {
   "cell_type": "code",
   "execution_count": null,
   "metadata": {},
   "outputs": [],
   "source": [
    "tv_shows = {\n",
    "    \"HBO\": {'The Sopranos': 9.2, 'The Wire': 9.3, 'Band of Brothers': 9.5, 'Game of Thrones': 9.5},\n",
    "    \"AMC\": {\"Breaking Bad\":9.5, \"Better Call Saul\":8.7, \"The Walking Dead\":8.5}\n",
    "}\n",
    "\n",
    "# tv_shows = {\n",
    "#     \"HBO\": {'The Sopranos': 9.2, 'The Wire': 9.3, 'Band of Brothers': 9.5, 'Game of Thrones': 9.5},\n",
    "#     \"AMC\": {\"Breaking Bad\":9.5, \"Better Call Saul\":8.7, \"Walking Dead\":{\"Fear The Walking dead\":7.5, \"The Walking Dead\": 8.5}}\n",
    "# }\n",
    "\n",
    "\n",
    "\n",
    "def myprint(d):\n",
    "    for k, v in d.items():\n",
    "        if type(v) is dict:\n",
    "            myprint(v)\n",
    "        else:\n",
    "            print(\"{0} : {1}\".format(k, v))\n",
    "            \n",
    "myprint(d = tv_shows)"
   ]
  },
  {
   "cell_type": "markdown",
   "metadata": {},
   "source": [
    "## Built-in Dictionary Functions & Methods:\n",
    "\n",
    "* `len(dictonary)`\n",
    "* `str(dict)`\n",
    "* `type(variable)`\n",
    "* `dictionary.copy()`\n",
    "* `dictionary.fromkeys(seq,values)`\n",
    "* `dictionary.get(key,default_value)`\n",
    "* `dictionary.has_key(‘key’)`\n",
    "* `dictionary.items()`\n",
    "* `dictionary.keys()`\n",
    "* `dictionary.setdefault(key, default)`\n",
    "* `dictionary.update(dictionary2)`\n",
    "* `dictionary.values()`"
   ]
  },
  {
   "cell_type": "code",
   "execution_count": null,
   "metadata": {},
   "outputs": [],
   "source": [
    "def print_hello():\n",
    "    print(\"Hello\")\n",
    "\n",
    "def print_world():\n",
    "    print(\"World\")\n",
    "\n",
    "def default():\n",
    "    print(\"Default\")\n",
    "\n",
    "switch = {\n",
    "    \"1\": print_hello,\n",
    "    \"2\": print_world\n",
    "}\n",
    "\n",
    "inp = input(\"Enter Choice\")\n",
    "user_chice = switch.get(inp, default)\n",
    "user_chice()"
   ]
  },
  {
   "cell_type": "code",
   "execution_count": null,
   "metadata": {},
   "outputs": [],
   "source": [
    "def print_hello():\n",
    "    return \"Hello\"\n",
    "\n",
    "def print_world():\n",
    "    return \"World\"\n",
    "\n",
    "def default():\n",
    "    return \"Default\"\n",
    "\n",
    "def my_switch(choice):\n",
    "    switch = {\n",
    "        \"1\": print_hello,\n",
    "        \"2\": print_world,\n",
    "    }\n",
    "\n",
    "    which = switch.get(choice, default)\n",
    "    return which()\n",
    "\n",
    "my_switch(input(\"Which case?\"))"
   ]
  },
  {
   "cell_type": "code",
   "execution_count": null,
   "metadata": {},
   "outputs": [],
   "source": [
    "def print_hello():\n",
    "    print(\"Hello\")\n",
    "\n",
    "def print_world():\n",
    "    print(\"World\")\n",
    "\n",
    "def default():\n",
    "    print(\"Default\")\n",
    "\n",
    "switch = {\n",
    "    \"1\": print_hello,\n",
    "    \"2\": print_world,\n",
    "}\n",
    "\n",
    "try:\n",
    "    switch[input(\"Enter choice\")]()\n",
    "except KeyError:\n",
    "    default()"
   ]
  }
 ],
 "metadata": {
  "kernelspec": {
   "display_name": "Python 3",
   "language": "python",
   "name": "python3"
  },
  "language_info": {
   "codemirror_mode": {
    "name": "ipython",
    "version": 3
   },
   "file_extension": ".py",
   "mimetype": "text/x-python",
   "name": "python",
   "nbconvert_exporter": "python",
   "pygments_lexer": "ipython3",
   "version": "3.6.4"
  }
 },
 "nbformat": 4,
 "nbformat_minor": 1
}
